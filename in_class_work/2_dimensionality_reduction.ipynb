{
 "cells": [
  {
   "cell_type": "markdown",
   "metadata": {},
   "source": [
    "# In-class work 2: Dimensionality reduction techniques"
   ]
  },
  {
   "cell_type": "markdown",
   "metadata": {},
   "source": [
    "This notebook gives you a starting point for exploring several dimensionality-reduction techniques. \n",
    "\n",
    "**Important:** Make sure this notebook is pointing toward your custom `conda` kernel (top right drop-down menu)."
   ]
  },
  {
   "cell_type": "markdown",
   "metadata": {},
   "source": [
    "<a name='section_0'></a>\n",
    "<h2 style=\"border:1px; border-style:solid; padding: 0.25em; color: #FFFFFF; background-color: #1f77b4\">0. Imports & installs</h2>"
   ]
  },
  {
   "cell_type": "code",
   "execution_count": null,
   "metadata": {},
   "outputs": [],
   "source": [
    "%pip install seaborn ### slightly nicer scatterplot capabilities than matplotlib alone"
   ]
  },
  {
   "cell_type": "markdown",
   "metadata": {},
   "source": [
    "Here's a full cell of basic imports:"
   ]
  },
  {
   "cell_type": "code",
   "execution_count": null,
   "metadata": {},
   "outputs": [],
   "source": [
    "import numpy as np\n",
    "import pandas as pd\n",
    "import matplotlib.pyplot as plt\n",
    "import seaborn as sns\n",
    "\n",
    "### set plot resolution\n",
    "%config InlineBackend.figure_format = 'retina'\n",
    "\n",
    "### set default figure parameters\n",
    "plt.rcParams['figure.figsize'] = (9,6)\n",
    "\n",
    "medium_size = 12\n",
    "large_size = 15\n",
    "\n",
    "plt.rc('font', size=medium_size)          # default text sizes\n",
    "plt.rc('xtick', labelsize=medium_size)    # xtick labels\n",
    "plt.rc('ytick', labelsize=medium_size)    # ytick labels\n",
    "plt.rc('legend', fontsize=medium_size)    # legend\n",
    "plt.rc('axes', titlesize=large_size)      # axes title\n",
    "plt.rc('axes', labelsize=large_size)      # x and y labels\n",
    "plt.rc('figure', titlesize=large_size)    # figure title"
   ]
  },
  {
   "cell_type": "markdown",
   "metadata": {},
   "source": [
    "<a name='section_1'></a>\n",
    "<h2 style=\"border:1px; border-style:solid; padding: 0.25em; color: #FFFFFF; background-color: #1f77b4\">1. Load the MNIST dataset</h2>"
   ]
  },
  {
   "cell_type": "code",
   "execution_count": null,
   "metadata": {},
   "outputs": [],
   "source": [
    "from sklearn.datasets import fetch_openml"
   ]
  },
  {
   "cell_type": "code",
   "execution_count": null,
   "metadata": {},
   "outputs": [],
   "source": [
    "### Load the MNIST data (X has the pixel values for each 28x28 image; y has the digit class labels)\n",
    "X, y = fetch_openml('mnist_784', version=1, return_X_y=True, as_frame=False)\n",
    "y = y.astype(???) ### convert class labels from strings to ints\n",
    "print(X.shape)\n",
    "print(y.shape)\n",
    "\n",
    "classes = np.unique(y)\n",
    "print(f\"Classes: {classes}\")"
   ]
  },
  {
   "cell_type": "code",
   "execution_count": null,
   "metadata": {},
   "outputs": [],
   "source": [
    "### Optionally: reduce the number of events to 1000 for speed purposes\n",
    "n_events = 1_000\n",
    "X = X[:n_events]\n",
    "y = y[:n_events]"
   ]
  },
  {
   "cell_type": "code",
   "execution_count": null,
   "metadata": {},
   "outputs": [],
   "source": [
    "### Visualize the first 2 images\n",
    "fig, ax = plt.subplots(1,2)\n",
    "ax[0].imshow(X[0,:].reshape(28,28), 'Greys')\n",
    "ax[1].imshow(X[1,:].reshape(28,28), 'Greys')\n",
    "ax[0].set_title(f\"Label = {y[0]}\")\n",
    "ax[1].set_title(f\"Label = {y[1]}\");"
   ]
  },
  {
   "cell_type": "markdown",
   "metadata": {},
   "source": [
    "<a name='section_2'></a>\n",
    "<h2 style=\"border:1px; border-style:solid; padding: 0.25em; color: #FFFFFF; background-color: #1f77b4\">2. PCA</h2>"
   ]
  },
  {
   "cell_type": "code",
   "execution_count": null,
   "metadata": {},
   "outputs": [],
   "source": [
    "### find out how to import PCA from scikit-learn\n",
    "from sklearn.??? import PCA"
   ]
  },
  {
   "cell_type": "code",
   "execution_count": null,
   "metadata": {},
   "outputs": [],
   "source": [
    "### Specify 2 components for a 2D plot\n",
    "n_components = 2\n",
    "pca = PCA(n_components=n_components)\n",
    "pca_result = pca.fit_transform(X)"
   ]
  },
  {
   "cell_type": "code",
   "execution_count": null,
   "metadata": {},
   "outputs": [],
   "source": [
    "### make a dataframe out of these results \n",
    "df_pca = pd.DataFrame({'pca_1': pca_result[:,0], 'pca_2': pca_result[:,1], 'label': y})\n",
    "df_pca"
   ]
  },
  {
   "cell_type": "code",
   "execution_count": null,
   "metadata": {},
   "outputs": [],
   "source": [
    "fig, ax = plt.subplots(1)\n",
    "sns.scatterplot(x='pca_1', y='pca_2', hue='label', data=df_pca, ax=ax, palette='tab10', legend='full', s=40)\n",
    "ax.set_aspect('equal')\n",
    "ax.legend(bbox_to_anchor=(1.05, 1), loc=2, borderaxespad=0.0);\n",
    "ax.set_title(f\"PCA ($d={n_components}$)\", fontsize=25);"
   ]
  },
  {
   "cell_type": "markdown",
   "metadata": {},
   "source": [
    "How does the class separation look? Try varying the number of components and see how this changes."
   ]
  },
  {
   "cell_type": "markdown",
   "metadata": {},
   "source": [
    "<a name='section_3'></a>\n",
    "<h2 style=\"border:1px; border-style:solid; padding: 0.25em; color: #FFFFFF; background-color: #1f77b4\">3. t-SNE</h2>"
   ]
  },
  {
   "cell_type": "markdown",
   "metadata": {},
   "source": [
    "Now import t-SNE using scikit-learn:"
   ]
  },
  {
   "cell_type": "code",
   "execution_count": null,
   "metadata": {},
   "outputs": [],
   "source": [
    "from sklearn.??? import ???"
   ]
  },
  {
   "cell_type": "code",
   "execution_count": null,
   "metadata": {},
   "outputs": [],
   "source": [
    "n_components = 2\n",
    "perplexity = 40\n",
    "tsne = TSNE(n_components=n_components, perplexity=perplexity)\n",
    "tsne_result = tsne.fit_transform(X)\n",
    "tsne_result.shape"
   ]
  },
  {
   "cell_type": "code",
   "execution_count": null,
   "metadata": {},
   "outputs": [],
   "source": [
    "### make a dataframe out of these results \n",
    "df_tsne = pd.DataFrame({'tsne_1': ???, 'tsne_2': ???, 'label': ???})\n",
    "df_tsne"
   ]
  },
  {
   "cell_type": "code",
   "execution_count": null,
   "metadata": {},
   "outputs": [],
   "source": [
    "### make a scatterplot of the 2 t-SNE components \n",
    "fig, ax = plt.subplots(1)\n",
    "sns.scatterplot(x='tsne_1', y='tsne_2', hue='label', data=df_tsne, ax=ax, palette='tab10', legend='full', s=40)\n",
    "ax.set_aspect('equal')\n",
    "ax.legend(bbox_to_anchor=(1.05, 1), loc=2, borderaxespad=0.0);\n",
    "ax.set_title(f\"t-SNE ($d={n_components}$)\", fontsize=25);"
   ]
  },
  {
   "cell_type": "markdown",
   "metadata": {},
   "source": [
    "Has the class separation improved? \n",
    "\n",
    "Try visualizing a few images to diagnose why some examples of images from a certain label are clustered together vs. placed closer to another category.\n",
    "\n",
    "Try varying the \"perplexity\" parameter to understand its influence on clustering. (What is perplexity? See the FAQ here: https://lvdmaaten.github.io/tsne/). See the code below for an example of how to vary the perplexity -- make an equivalent version of this plot using your MNIST data."
   ]
  },
  {
   "cell_type": "code",
   "execution_count": null,
   "metadata": {},
   "outputs": [],
   "source": [
    "def plot_perplexity(): \n",
    "    # Authors: The scikit-learn developers\n",
    "    # SPDX-License-Identifier: BSD-3-Clause\n",
    "    \n",
    "    from time import time\n",
    "    \n",
    "    import matplotlib.pyplot as plt\n",
    "    import numpy as np\n",
    "    from matplotlib.ticker import NullFormatter\n",
    "    \n",
    "    from sklearn import datasets, manifold\n",
    "    \n",
    "    n_samples = 150\n",
    "    n_components = 2\n",
    "    (fig, subplots) = plt.subplots(3, 5, figsize=(15, 8))\n",
    "    perplexities = [5, 30, 50, 100]\n",
    "    \n",
    "    X, y = datasets.make_circles(\n",
    "        n_samples=n_samples, factor=0.5, noise=0.05, random_state=0\n",
    "    )\n",
    "    \n",
    "    red = y == 0\n",
    "    green = y == 1\n",
    "    \n",
    "    ax = subplots[0][0]\n",
    "    ax.scatter(X[red, 0], X[red, 1], c=\"r\")\n",
    "    ax.scatter(X[green, 0], X[green, 1], c=\"g\")\n",
    "    ax.xaxis.set_major_formatter(NullFormatter())\n",
    "    ax.yaxis.set_major_formatter(NullFormatter())\n",
    "    plt.axis(\"tight\")\n",
    "    \n",
    "    for i, perplexity in enumerate(perplexities):\n",
    "        ax = subplots[0][i + 1]\n",
    "    \n",
    "        t0 = time()\n",
    "        tsne = manifold.TSNE(\n",
    "            n_components=n_components,\n",
    "            init=\"random\",\n",
    "            random_state=0,\n",
    "            perplexity=perplexity,\n",
    "            max_iter=300,\n",
    "        )\n",
    "        Y = tsne.fit_transform(X)\n",
    "        t1 = time()\n",
    "        print(\"circles, perplexity=%d in %.2g sec\" % (perplexity, t1 - t0))\n",
    "        ax.set_title(\"Perplexity=%d\" % perplexity)\n",
    "        ax.scatter(Y[red, 0], Y[red, 1], c=\"r\")\n",
    "        ax.scatter(Y[green, 0], Y[green, 1], c=\"g\")\n",
    "        ax.xaxis.set_major_formatter(NullFormatter())\n",
    "        ax.yaxis.set_major_formatter(NullFormatter())\n",
    "        ax.axis(\"tight\")\n",
    "    \n",
    "    # Another example using s-curve\n",
    "    X, color = datasets.make_s_curve(n_samples, random_state=0)\n",
    "    \n",
    "    ax = subplots[1][0]\n",
    "    ax.scatter(X[:, 0], X[:, 2], c=color)\n",
    "    ax.xaxis.set_major_formatter(NullFormatter())\n",
    "    ax.yaxis.set_major_formatter(NullFormatter())\n",
    "    \n",
    "    for i, perplexity in enumerate(perplexities):\n",
    "        ax = subplots[1][i + 1]\n",
    "    \n",
    "        t0 = time()\n",
    "        tsne = manifold.TSNE(\n",
    "            n_components=n_components,\n",
    "            init=\"random\",\n",
    "            random_state=0,\n",
    "            perplexity=perplexity,\n",
    "            learning_rate=\"auto\",\n",
    "            max_iter=300,\n",
    "        )\n",
    "        Y = tsne.fit_transform(X)\n",
    "        t1 = time()\n",
    "        print(\"S-curve, perplexity=%d in %.2g sec\" % (perplexity, t1 - t0))\n",
    "    \n",
    "        ax.set_title(\"Perplexity=%d\" % perplexity)\n",
    "        ax.scatter(Y[:, 0], Y[:, 1], c=color)\n",
    "        ax.xaxis.set_major_formatter(NullFormatter())\n",
    "        ax.yaxis.set_major_formatter(NullFormatter())\n",
    "        ax.axis(\"tight\")\n",
    "    \n",
    "    \n",
    "    # Another example using a 2D uniform grid\n",
    "    x = np.linspace(0, 1, int(np.sqrt(n_samples)))\n",
    "    xx, yy = np.meshgrid(x, x)\n",
    "    X = np.hstack(\n",
    "        [\n",
    "            xx.ravel().reshape(-1, 1),\n",
    "            yy.ravel().reshape(-1, 1),\n",
    "        ]\n",
    "    )\n",
    "    color = xx.ravel()\n",
    "    ax = subplots[2][0]\n",
    "    ax.scatter(X[:, 0], X[:, 1], c=color)\n",
    "    ax.xaxis.set_major_formatter(NullFormatter())\n",
    "    ax.yaxis.set_major_formatter(NullFormatter())\n",
    "    \n",
    "    for i, perplexity in enumerate(perplexities):\n",
    "        ax = subplots[2][i + 1]\n",
    "    \n",
    "        t0 = time()\n",
    "        tsne = manifold.TSNE(\n",
    "            n_components=n_components,\n",
    "            init=\"random\",\n",
    "            random_state=0,\n",
    "            perplexity=perplexity,\n",
    "            max_iter=400,\n",
    "        )\n",
    "        Y = tsne.fit_transform(X)\n",
    "        t1 = time()\n",
    "        print(\"uniform grid, perplexity=%d in %.2g sec\" % (perplexity, t1 - t0))\n",
    "    \n",
    "        ax.set_title(\"Perplexity=%d\" % perplexity)\n",
    "        ax.scatter(Y[:, 0], Y[:, 1], c=color)\n",
    "        ax.xaxis.set_major_formatter(NullFormatter())\n",
    "        ax.yaxis.set_major_formatter(NullFormatter())\n",
    "        ax.axis(\"tight\")\n",
    "    \n",
    "    plt.show()\n",
    "\n",
    "plot_perplexity()"
   ]
  },
  {
   "cell_type": "markdown",
   "metadata": {},
   "source": [
    "<a name='section_4'></a>\n",
    "<h2 style=\"border:1px; border-style:solid; padding: 0.25em; color: #FFFFFF; background-color: #1f77b4\">4. UMAP</h2>"
   ]
  },
  {
   "cell_type": "code",
   "execution_count": null,
   "metadata": {},
   "outputs": [],
   "source": [
    "%pip install umap-learn"
   ]
  },
  {
   "cell_type": "code",
   "execution_count": null,
   "metadata": {},
   "outputs": [],
   "source": [
    "import umap.umap_ as umap"
   ]
  },
  {
   "cell_type": "code",
   "execution_count": null,
   "metadata": {},
   "outputs": [],
   "source": [
    "n_components = 2\n",
    "\n",
    "umap_model = umap.UMAP(\n",
    "    n_components=n_components,\n",
    "    n_neighbors=15,   ### local structure (5–50 is common)\n",
    "    min_dist=0.1,     ### cluster tightness (0.0–0.5)\n",
    "    metric=\"euclidean\",\n",
    "    random_state=0,\n",
    "    verbose=True\n",
    ")\n",
    "umap_result = umap_model.fit_transform(X)"
   ]
  },
  {
   "cell_type": "code",
   "execution_count": null,
   "metadata": {},
   "outputs": [],
   "source": [
    "umap_result[:,0].shape"
   ]
  },
  {
   "cell_type": "code",
   "execution_count": null,
   "metadata": {},
   "outputs": [],
   "source": [
    "### make a dataframe out of these results \n",
    "df_umap = ???\n",
    "df_umap"
   ]
  },
  {
   "cell_type": "code",
   "execution_count": null,
   "metadata": {},
   "outputs": [],
   "source": [
    "### make a scatterplot of the 2 UMAP components \n",
    "fig, ax = plt.subplots(1)\n",
    "???"
   ]
  },
  {
   "cell_type": "markdown",
   "metadata": {},
   "source": [
    "Do a similar sweep with different values of `n_neighbors`. Try different distance metrics other than \"Euclidean\". Which metric works best?"
   ]
  },
  {
   "cell_type": "markdown",
   "metadata": {},
   "source": [
    "<a name='section_5'></a>\n",
    "<h2 style=\"border:1px; border-style:solid; padding: 0.25em; color: #FFFFFF; background-color: #1f77b4\">5. Autoencoder</h2>"
   ]
  },
  {
   "cell_type": "code",
   "execution_count": null,
   "metadata": {},
   "outputs": [],
   "source": [
    "import torch\n",
    "import torch.nn as nn\n",
    "import torch.optim as optim\n",
    "from torch.utils.data import DataLoader\n",
    "from torchvision import datasets, transforms\n",
    "\n",
    "### Use torchvision to load the full MNIST dataset as tensors\n",
    "transform = transforms.ToTensor()\n",
    "train_dataset = datasets.MNIST(root=\"./data\", train=True, transform=transform, download=True)\n",
    "test_dataset  = datasets.MNIST(root=\"./data\", train=False, transform=transform, download=True)\n",
    "\n",
    "train_loader = DataLoader(train_dataset, batch_size=128, shuffle=True)\n",
    "test_loader  = DataLoader(test_dataset, batch_size=128, shuffle=False)\n",
    "\n",
    "### Define your simple autoencoder with latent dimension = 2 \n",
    "class AutoEncoder(nn.Module):\n",
    "    def __init__(self):\n",
    "        super().__init__()\n",
    "        \n",
    "        ### encoder goes here\n",
    "        self.encoder = nn.Sequential(\n",
    "            nn.Flatten(),\n",
    "            nn.Linear(28*28, 128),\n",
    "            nn.ReLU(),\n",
    "            ???\n",
    "            nn.Linear(64, 2)     ### latent dim = 2\n",
    "        )\n",
    "\n",
    "        ### decoder goes here\n",
    "        self.decoder = nn.Sequential(\n",
    "            nn.Linear(???),\n",
    "            nn.ReLU(),\n",
    "            ???\n",
    "            nn.Sigmoid(),        ### scale pixel values to [0,1]\n",
    "        )\n",
    "\n",
    "    def forward(self, x):\n",
    "        z = self.encoder(x)\n",
    "        x_hat = self.decoder(z)\n",
    "        return x_hat, z\n",
    "\n",
    "### train\n",
    "device = torch.device(\"cuda\" if torch.cuda.is_available() else \"cpu\")\n",
    "model = Autoencoder().to(device)\n",
    "criterion = ???\n",
    "optimizer = ???\n",
    "\n",
    "n_epochs = 5\n",
    "for epoch in range(n_epochs):\n",
    "    running_loss = 0.0\n",
    "    for imgs, _ in train_loader:\n",
    "        imgs = imgs.to(device)\n",
    "        optimizer.zero_grad()\n",
    "        x_hat, z = model(imgs)\n",
    "        loss = criterion(x_hat, imgs.view(imgs.size(0), -1))\n",
    "        loss.backward()\n",
    "        optimizer.step()\n",
    "        running_loss += loss.item() * imgs.size(0)\n",
    "    epoch_loss = running_loss / len(train_loader.dataset)\n",
    "    print(f\"Epoch {epoch+1}/{EPOCHS}, Loss: {epoch_loss:.4f}\")\n",
    "\n",
    "### evaluate \n",
    "model.eval()\n",
    "latents, labels = [], []\n",
    "with torch.no_grad():\n",
    "    for imgs, lbls in test_loader:\n",
    "        imgs = imgs.to(device)\n",
    "        _, z = model(imgs)\n",
    "        latents.append(z.cpu())\n",
    "        labels.append(lbls)\n",
    "latents = torch.cat(latents)\n",
    "labels = torch.cat(labels)\n",
    "\n",
    "print(\"Latent space shape:\", latents.shape)  # (N_test, 2)"
   ]
  },
  {
   "cell_type": "code",
   "execution_count": null,
   "metadata": {},
   "outputs": [],
   "source": [
    "import matplotlib.pyplot as plt\n",
    "\n",
    "plt.figure(figsize=(7,6))\n",
    "scatter = plt.scatter(latents[:,0], latents[:,1], c=labels, cmap=\"tab10\", s=5, alpha=0.7)\n",
    "plt.colorbar(scatter, ticks=range(10), label=\"Digit\")\n",
    "plt.xlabel(\"Latent dimension 1\")\n",
    "plt.ylabel(\"Latent dimension 2\")\n",
    "plt.title(\"2D Autoencoder Embedding of MNIST\")\n",
    "plt.show()"
   ]
  },
  {
   "cell_type": "markdown",
   "metadata": {},
   "source": [
    "### Further exercises:\n"
   ]
  },
  {
   "cell_type": "markdown",
   "metadata": {},
   "source": [
    "- Try running t-SNE, UMAP, and your autoencoder after first running PCA. Did the performance change?\n",
    "- Convert all of these 2D plots into 3D plots, and update the dimensionality-reduction strategies accordingly.\n",
    "- How many PCA components are needed to explain 90% of the variance?\n",
    "- Try using a different dataset of your choice! (Having class labels already is helpful.)"
   ]
  },
  {
   "cell_type": "code",
   "execution_count": null,
   "metadata": {},
   "outputs": [],
   "source": []
  }
 ],
 "metadata": {
  "colab": {
   "authorship_tag": "ABX9TyNjh80VUTQo5GkMNUc0DRQc",
   "provenance": []
  },
  "kernelspec": {
   "display_name": "venv_mlphys",
   "language": "python",
   "name": "python3"
  },
  "language_info": {
   "codemirror_mode": {
    "name": "ipython",
    "version": 3
   },
   "file_extension": ".py",
   "mimetype": "text/x-python",
   "name": "python",
   "nbconvert_exporter": "python",
   "pygments_lexer": "ipython3",
   "version": "3.9.21"
  }
 },
 "nbformat": 4,
 "nbformat_minor": 4
}

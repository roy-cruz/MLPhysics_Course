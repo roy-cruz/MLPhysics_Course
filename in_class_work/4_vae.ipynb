{
 "cells": [
  {
   "cell_type": "markdown",
   "id": "742e4cf8-d47f-4abc-a35e-1564d544c2ee",
   "metadata": {},
   "source": [
    "# Intro to Variational Autoencoders (VAEs)\n",
    "\n",
    "Adapted from Jackson Kang @ Deep-learning Lab. (Handong Global University, S.Korea)"
   ]
  },
  {
   "cell_type": "markdown",
   "id": "5ef33f29-1379-4e75-b6c8-0242d4a4157c",
   "metadata": {},
   "source": [
    "<h2 style=\"border:1px; border-style:solid; padding: 0.25em; color: #FFFFFF; background-color: #1f77b4\">0. Imports & installs</h2>"
   ]
  },
  {
   "cell_type": "code",
   "execution_count": 5,
   "id": "48201029-60a2-4a5e-a820-a45750432ade",
   "metadata": {},
   "outputs": [],
   "source": [
    "import torch\n",
    "import torch.nn as nn\n",
    "\n",
    "import numpy as np\n",
    "\n",
    "from tqdm import tqdm\n",
    "from torchvision.utils import save_image, make_grid"
   ]
  },
  {
   "cell_type": "markdown",
   "id": "fb56499f-afd3-450a-9297-8497d415b8e3",
   "metadata": {},
   "source": [
    "<h2 style=\"border:1px; border-style:solid; padding: 0.25em; color: #FFFFFF; background-color: #1f77b4\">1. Download the MNIST data</h2>"
   ]
  },
  {
   "cell_type": "code",
   "execution_count": 6,
   "id": "3c0760d5-af05-4db8-8c7b-0a14da71528b",
   "metadata": {},
   "outputs": [],
   "source": [
    "dataset_path = './data/' # feel free to change this! "
   ]
  },
  {
   "cell_type": "code",
   "execution_count": 7,
   "id": "ff457d0b-89d6-4888-9432-5d0d4ebd4f70",
   "metadata": {},
   "outputs": [
    {
     "name": "stderr",
     "output_type": "stream",
     "text": [
      "100.0%\n",
      "100.0%\n",
      "100.0%\n",
      "100.0%\n"
     ]
    }
   ],
   "source": [
    "from torchvision.datasets import MNIST\n",
    "import torchvision.transforms as transforms\n",
    "from torch.utils.data import DataLoader\n",
    "\n",
    "\n",
    "mnist_transform = transforms.Compose([\n",
    "        transforms.ToTensor(),\n",
    "])\n",
    "\n",
    "kwargs = {'num_workers': 1, 'pin_memory': True} \n",
    "\n",
    "batch_size = 100\n",
    "\n",
    "train_dataset = MNIST(dataset_path, transform=mnist_transform, train=True, download=True)\n",
    "test_dataset  = MNIST(dataset_path, transform=mnist_transform, train=False, download=True)\n",
    "\n",
    "train_loader = DataLoader(dataset=train_dataset, batch_size=batch_size, shuffle=True, **kwargs)\n",
    "test_loader  = DataLoader(dataset=test_dataset,  batch_size=batch_size, shuffle=False, **kwargs)"
   ]
  },
  {
   "cell_type": "markdown",
   "id": "fea9a0b2-0eaa-499e-98fe-533b91d97054",
   "metadata": {},
   "source": [
    "<h2 style=\"border:1px; border-style:solid; padding: 0.25em; color: #FFFFFF; background-color: #1f77b4\">2. Set your hyperparameters</h2>"
   ]
  },
  {
   "cell_type": "code",
   "execution_count": null,
   "id": "0a77f9f3-9877-4a80-88c8-6f05838a18f4",
   "metadata": {},
   "outputs": [],
   "source": [
    "cuda = True\n",
    "DEVICE = torch.device(\"cuda\" if cuda else \"cpu\")\n",
    "\n",
    "x_dim  = 784\n",
    "hidden_dim = 400\n",
    "# latent_dim = 200\n",
    "latent_dim = 20\n",
    "\n",
    "lr = 1e-3\n",
    "epochs = 30"
   ]
  },
  {
   "cell_type": "markdown",
   "id": "2ab5bc7b-c351-4386-9b62-e060458764a5",
   "metadata": {},
   "source": [
    "<h2 style=\"border:1px; border-style:solid; padding: 0.25em; color: #FFFFFF; background-color: #1f77b4\">3. Define the VAE model</h2>"
   ]
  },
  {
   "cell_type": "code",
   "execution_count": 10,
   "id": "02487828-63f3-42ce-b49f-244f022165fc",
   "metadata": {},
   "outputs": [],
   "source": [
    "\"\"\"\n",
    "    A simple implementation of Gaussian MLP Encoder and Decoder\n",
    "\"\"\"\n",
    "\n",
    "class Encoder(nn.Module):\n",
    "    \n",
    "    def __init__(self, input_dim, hidden_dim, latent_dim):\n",
    "        super(Encoder, self).__init__()\n",
    "\n",
    "        self.layer1 = nn.Linear(input_dim, hidden_dim) # linear layer from input_dim -> hidden_dim \n",
    "        self.layer2 = nn.Linear(hidden_dim, hidden_dim) # linear layer from hidden_dim -> hidden_dim \n",
    "        self.mu     = nn.Linear(hidden_dim, latent_dim) # linear layer from hidden_dim -> latent_dim \n",
    "        self.sigma  = nn.Linear(hidden_dim, latent_dim) # linear layer from hidden_dim -> latent_dim \n",
    "\n",
    "        self.LeakyReLU = nn.LeakyReLU(0.2)\n",
    "        self.training = True\n",
    "        \n",
    "    def forward(self, x):\n",
    "        h       = self.LeakyReLU(self.layer1(x)) # apply layer1 to input x\n",
    "        h       = self.LeakyReLU(self.layer2(h)) # apply layer1 to h\n",
    "        mean    = self.mu(h) # apply the relevant layer to h\n",
    "        log_var = self.sigma(h) # apply the relevant layer to h\n",
    "        \n",
    "        return mean, log_var"
   ]
  },
  {
   "cell_type": "code",
   "execution_count": 17,
   "id": "d8bccfff-6f19-4f8c-a834-6ae8e9233494",
   "metadata": {},
   "outputs": [],
   "source": [
    "class Decoder(nn.Module):\n",
    "    def __init__(self, latent_dim, hidden_dim, output_dim):\n",
    "        super(Decoder, self).__init__()\n",
    "        self.layer1 = nn.Linear(latent_dim, hidden_dim) # linear layer from latent_dim -> hidden_dim \n",
    "        self.layer2 = nn.Linear(hidden_dim, hidden_dim) # linear layer from hidden dim -> hidden_dim \n",
    "        self.output_layer = nn.Linear(hidden_dim, output_dim) # linear layer from hidden dim -> output_dim\n",
    "        self.LeakyReLU = nn.LeakyReLU(0.2)\n",
    "        \n",
    "    def forward(self, x):\n",
    "        h     = self.LeakyReLU(self.layer1(x)) # apply layer1 to input x\n",
    "        h     = self.LeakyReLU(self.layer2(h)) # apply layer2 to h\n",
    "        \n",
    "        x_hat = torch.sigmoid(self.output_layer(h)) # apply output_layer\n",
    "        return x_hat\n",
    "        "
   ]
  },
  {
   "cell_type": "code",
   "execution_count": 18,
   "id": "9a06523f-fe4e-4101-9fd2-1afe65f266b8",
   "metadata": {},
   "outputs": [],
   "source": [
    "class Model(nn.Module):\n",
    "    def __init__(self, Encoder, Decoder):\n",
    "        super(Model, self).__init__()\n",
    "        self.Encoder = Encoder\n",
    "        self.Decoder = Decoder\n",
    "        \n",
    "    def reparameterization(self, mean, var):\n",
    "        epsilon = torch.randn_like(var).to(DEVICE)        # sampling epsilon        \n",
    "        z = mean + var*epsilon                          # reparameterization trick\n",
    "        return z\n",
    "        \n",
    "                \n",
    "    def forward(self, x):\n",
    "        mean, log_var = self.Encoder(x)\n",
    "        z = self.reparameterization(mean, torch.exp(0.5 * log_var)) # takes exponential function (log var -> var)\n",
    "        x_hat            = self.Decoder(z)\n",
    "        \n",
    "        return x_hat, mean, log_var"
   ]
  },
  {
   "cell_type": "code",
   "execution_count": 19,
   "id": "f8850f9e-7c33-4bfd-954c-064d88729832",
   "metadata": {},
   "outputs": [],
   "source": [
    "encoder = Encoder(input_dim=x_dim, hidden_dim=hidden_dim, latent_dim=latent_dim)\n",
    "decoder = Decoder(latent_dim=latent_dim, hidden_dim = hidden_dim, output_dim = x_dim)\n",
    "\n",
    "model = Model(Encoder=encoder, Decoder=decoder).to(DEVICE)"
   ]
  },
  {
   "cell_type": "markdown",
   "id": "cea7385d-8734-4404-864b-73228a9b869d",
   "metadata": {},
   "source": [
    "<h2 style=\"border:1px; border-style:solid; padding: 0.25em; color: #FFFFFF; background-color: #1f77b4\">4. Define the loss function</h2>"
   ]
  },
  {
   "cell_type": "code",
   "execution_count": 20,
   "id": "33a1cd39-a065-41b9-bba2-4dc8fe0192b0",
   "metadata": {},
   "outputs": [],
   "source": [
    "from torch.optim import Adam\n",
    "\n",
    "BCE_loss = nn.BCELoss() \n",
    "\n",
    "def loss_function(x, x_hat, mean, log_var):\n",
    "    reproduction_loss = nn.functional.binary_cross_entropy(x_hat, x, reduction='sum')\n",
    "    KLD      = - 0.5 * torch.sum(1 + log_var - mean.pow(2) - log_var.exp())\n",
    "\n",
    "    return reproduction_loss + KLD\n",
    "\n",
    "optimizer = Adam(model.parameters(), lr=lr)"
   ]
  },
  {
   "cell_type": "markdown",
   "id": "f943a702-5f68-4e30-8b4e-cc84610af576",
   "metadata": {},
   "source": [
    "<h2 style=\"border:1px; border-style:solid; padding: 0.25em; color: #FFFFFF; background-color: #1f77b4\">5. Train!</h2>"
   ]
  },
  {
   "cell_type": "code",
   "execution_count": 21,
   "id": "29b32de4-1c53-4545-8cce-4b942dbaee06",
   "metadata": {},
   "outputs": [
    {
     "name": "stdout",
     "output_type": "stream",
     "text": [
      "Start training VAE...\n",
      "\tEpoch 1 complete! \tAverage Loss:  174.28268874230488\n",
      "\tEpoch 2 complete! \tAverage Loss:  129.20558755151816\n",
      "\tEpoch 3 complete! \tAverage Loss:  116.59613341571891\n",
      "\tEpoch 4 complete! \tAverage Loss:  112.36994140625\n",
      "\tEpoch 5 complete! \tAverage Loss:  110.06493005921327\n",
      "\tEpoch 6 complete! \tAverage Loss:  108.39576584346307\n",
      "\tEpoch 7 complete! \tAverage Loss:  107.10555157032555\n",
      "\tEpoch 8 complete! \tAverage Loss:  106.04682778589316\n",
      "\tEpoch 9 complete! \tAverage Loss:  105.30438474932178\n",
      "\tEpoch 10 complete! \tAverage Loss:  104.67809066543197\n",
      "\tEpoch 11 complete! \tAverage Loss:  104.2648464889399\n",
      "\tEpoch 12 complete! \tAverage Loss:  103.74653791475376\n",
      "\tEpoch 13 complete! \tAverage Loss:  103.36184818121347\n",
      "\tEpoch 14 complete! \tAverage Loss:  103.03007742396181\n",
      "\tEpoch 15 complete! \tAverage Loss:  102.67635734035893\n",
      "\tEpoch 16 complete! \tAverage Loss:  102.44707045922893\n",
      "\tEpoch 17 complete! \tAverage Loss:  102.18620919305613\n",
      "\tEpoch 18 complete! \tAverage Loss:  101.93165697712332\n",
      "\tEpoch 19 complete! \tAverage Loss:  101.79362449786102\n",
      "\tEpoch 20 complete! \tAverage Loss:  101.62243959659328\n",
      "\tEpoch 21 complete! \tAverage Loss:  101.41542363900773\n",
      "\tEpoch 22 complete! \tAverage Loss:  101.29641244522121\n",
      "\tEpoch 23 complete! \tAverage Loss:  101.16897687552171\n",
      "\tEpoch 24 complete! \tAverage Loss:  101.07058947529737\n",
      "\tEpoch 25 complete! \tAverage Loss:  100.94897694073455\n",
      "\tEpoch 26 complete! \tAverage Loss:  100.78959581072621\n",
      "\tEpoch 27 complete! \tAverage Loss:  100.67805906980384\n",
      "\tEpoch 28 complete! \tAverage Loss:  100.6270099253965\n",
      "\tEpoch 29 complete! \tAverage Loss:  100.47463643833473\n",
      "\tEpoch 30 complete! \tAverage Loss:  100.39898892359662\n",
      "Finish!!\n"
     ]
    }
   ],
   "source": [
    "print(\"Start training VAE...\")\n",
    "model.train()\n",
    "\n",
    "for epoch in range(epochs):\n",
    "    overall_loss = 0\n",
    "    for batch_idx, (x, _) in enumerate(train_loader):\n",
    "        x = x.view(batch_size, x_dim)\n",
    "        x = x.to(DEVICE)\n",
    "\n",
    "        optimizer.zero_grad()\n",
    "\n",
    "        x_hat, mean, log_var = model(x)\n",
    "        loss = loss_function(x, x_hat, mean, log_var)\n",
    "        \n",
    "        overall_loss += loss.item()\n",
    "        \n",
    "        loss.backward()\n",
    "        optimizer.step()\n",
    "        \n",
    "    print(\"\\tEpoch\", epoch + 1, \"complete!\", \"\\tAverage Loss: \", overall_loss / (batch_idx*batch_size))\n",
    "    \n",
    "print(\"Finish!!\")"
   ]
  },
  {
   "cell_type": "markdown",
   "id": "20c19bdc-75b5-45d0-8aad-a45b4ec80207",
   "metadata": {},
   "source": [
    "<h2 style=\"border:1px; border-style:solid; padding: 0.25em; color: #FFFFFF; background-color: #1f77b4\">6. Generate images</h2>"
   ]
  },
  {
   "cell_type": "code",
   "execution_count": 22,
   "id": "cd5ec993-b08d-4f51-bc94-57e0fa41bff0",
   "metadata": {},
   "outputs": [],
   "source": [
    "import matplotlib.pyplot as plt"
   ]
  },
  {
   "cell_type": "code",
   "execution_count": 23,
   "id": "da8e8c66-a621-47b6-b010-d1c2bc87547e",
   "metadata": {},
   "outputs": [
    {
     "name": "stderr",
     "output_type": "stream",
     "text": [
      "  0%|          | 0/100 [00:00<?, ?it/s]\n"
     ]
    }
   ],
   "source": [
    "model.eval()\n",
    "\n",
    "with torch.no_grad():\n",
    "    for batch_idx, (x, _) in enumerate(tqdm(test_loader)):\n",
    "        x = x.view(batch_size, x_dim)\n",
    "        x = x.to(DEVICE)\n",
    "        \n",
    "        x_hat, _, _ = model(x)\n",
    "\n",
    "\n",
    "        break"
   ]
  },
  {
   "cell_type": "code",
   "execution_count": 24,
   "id": "af7e1321-4786-4ab2-af39-a633e09c12da",
   "metadata": {},
   "outputs": [],
   "source": [
    "def show_image(x, idx):\n",
    "    x = x.view(batch_size, 28, 28)\n",
    "\n",
    "    fig = plt.figure()\n",
    "    plt.imshow(x[idx].cpu().numpy())"
   ]
  },
  {
   "cell_type": "code",
   "execution_count": 25,
   "id": "f1a5aec1-aa6c-418a-89a7-e7729df5412d",
   "metadata": {},
   "outputs": [
    {
     "data": {
      "image/png": "[encoded data removed]",
      "text/plain": [
       "<Figure size 640x480 with 1 Axes>"
      ]
     },
     "metadata": {},
     "output_type": "display_data"
    }
   ],
   "source": [
    "show_image(x, idx=0)"
   ]
  },
  {
   "cell_type": "code",
   "execution_count": 26,
   "id": "4d88b912-cdfb-4b87-a4c9-b70f3a607593",
   "metadata": {},
   "outputs": [
    {
     "data": {
      "image/png": "[encoded data removed]",
      "text/plain": [
       "<Figure size 640x480 with 1 Axes>"
      ]
     },
     "metadata": {},
     "output_type": "display_data"
    }
   ],
   "source": [
    "show_image(x_hat, idx=0)"
   ]
  },
  {
   "cell_type": "markdown",
   "id": "5962ea45-588e-424d-87de-950e2e88a501",
   "metadata": {},
   "source": [
    "<h2 style=\"border:1px; border-style:solid; padding: 0.25em; color: #FFFFFF; background-color: #1f77b4\">7. Generate new images</h2>"
   ]
  },
  {
   "cell_type": "code",
   "execution_count": 27,
   "id": "95c1246c-795a-427b-a55f-2fef1b464d65",
   "metadata": {},
   "outputs": [],
   "source": [
    "with torch.no_grad():\n",
    "    noise = torch.randn(batch_size, latent_dim).to(DEVICE)\n",
    "    generated_images = decoder(noise)"
   ]
  },
  {
   "cell_type": "code",
   "execution_count": 28,
   "id": "0d6a416d-77f7-41af-a720-701e2c41fe5b",
   "metadata": {},
   "outputs": [],
   "source": [
    "save_image(generated_images.view(batch_size, 1, 28, 28), 'generated_sample.png')"
   ]
  },
  {
   "cell_type": "code",
   "execution_count": 29,
   "id": "deb9134c-b8e7-43ca-98d2-6736838a5167",
   "metadata": {},
   "outputs": [
    {
     "data": {
      "image/png": "[encoded data removed]",
      "text/plain": [
       "<Figure size 640x480 with 1 Axes>"
      ]
     },
     "metadata": {},
     "output_type": "display_data"
    }
   ],
   "source": [
    "show_image(generated_images, idx=12)"
   ]
  },
  {
   "cell_type": "code",
   "execution_count": 30,
   "id": "e0b5485b-ac98-4984-8d22-31455018b646",
   "metadata": {},
   "outputs": [
    {
     "data": {
      "image/png": "[encoded data removed]",
      "text/plain": [
       "<Figure size 640x480 with 1 Axes>"
      ]
     },
     "metadata": {},
     "output_type": "display_data"
    }
   ],
   "source": [
    "show_image(generated_images, idx=0)"
   ]
  },
  {
   "cell_type": "code",
   "execution_count": null,
   "id": "182a4657",
   "metadata": {},
   "outputs": [],
   "source": []
  }
 ],
 "metadata": {
  "kernelspec": {
   "display_name": "venv_proj1",
   "language": "python",
   "name": "python3"
  },
  "language_info": {
   "codemirror_mode": {
    "name": "ipython",
    "version": 3
   },
   "file_extension": ".py",
   "mimetype": "text/x-python",
   "name": "python",
   "nbconvert_exporter": "python",
   "pygments_lexer": "ipython3",
   "version": "3.9.21"
  }
 },
 "nbformat": 4,
 "nbformat_minor": 5
}

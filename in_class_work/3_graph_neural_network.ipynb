{
 "cells": [
  {
   "cell_type": "markdown",
   "id": "010d6151-64eb-40a7-8955-f78a4262dc56",
   "metadata": {
    "execution": {
     "iopub.execute_input": "2022-07-28T22:23:54.034059Z",
     "iopub.status.busy": "2022-07-28T22:23:54.033529Z",
     "iopub.status.idle": "2022-07-28T22:23:54.040655Z",
     "shell.execute_reply": "2022-07-28T22:23:54.039563Z",
     "shell.execute_reply.started": "2022-07-28T22:23:54.034025Z"
    }
   },
   "source": [
    "# Intro to GNNs using Pytorch Geometric\n",
    "\n",
    "Adapted from the Pytorch Geometric documentation (https://pytorch-geometric.readthedocs.io/)"
   ]
  },
  {
   "cell_type": "markdown",
   "id": "2b3a0768-174a-4e61-9d05-689069312eaf",
   "metadata": {},
   "source": [
    "For this notebook, we'll work with a new package designed for GNNs: Pytorch Geometric. You may choose to install these packages into the same environment you already made, or maybe you'll want to make a new environment -- up to you!"
   ]
  },
  {
   "cell_type": "markdown",
   "id": "923f8322-6aad-4ad8-aeac-b9d9c11b9dc6",
   "metadata": {},
   "source": [
    "<a name='section_0'></a>\n",
    "<h2 style=\"border:1px; border-style:solid; padding: 0.25em; color: #FFFFFF; background-color: #1f77b4\">0. Imports & installs</h2>"
   ]
  },
  {
   "cell_type": "code",
   "execution_count": null,
   "id": "a367cb88-11f9-48b4-a165-38534da4795d",
   "metadata": {},
   "outputs": [],
   "source": [
    "%pip install torch_geometric deepsnap torch-sparse torch-scatter networkx"
   ]
  },
  {
   "cell_type": "code",
   "execution_count": null,
   "id": "86a5a051-363a-4248-ab00-c92f28c9cbf9",
   "metadata": {
    "tags": []
   },
   "outputs": [],
   "source": [
    "import pandas as pd\n",
    "import numpy as np\n",
    "import glob\n",
    "import time\n",
    "import os\n",
    "from tqdm import tqdm\n",
    "import matplotlib.pyplot as plt\n",
    "import torch\n",
    "from torch_geometric.data import Data\n",
    "from torch_geometric.utils.convert import to_networkx\n",
    "import networkx as nx # for visualizing graphs\n",
    "from sklearn.preprocessing import StandardScaler\n",
    "from IPython.display import Javascript\n",
    "\n",
    "import torch_geometric.nn as pyg_nn\n",
    "import torch.nn as nn\n",
    "import torch.nn.functional as F\n",
    "import torch_geometric.transforms as T\n",
    "import torch.optim as optim\n",
    "from copy import deepcopy\n",
    "from torch_geometric.nn import GINConv\n",
    "from sklearn.metrics import *\n",
    "from torch.nn import Sequential, Linear, ReLU\n",
    "from deepsnap.dataset import GraphDataset\n",
    "from deepsnap.batch import Batch"
   ]
  },
  {
   "cell_type": "markdown",
   "id": "06b3bce8-0c3c-4e05-985f-3c59d9830347",
   "metadata": {
    "tags": []
   },
   "source": [
    "<h2 style=\"border:1px; border-style:solid; padding: 0.25em; color: #FFFFFF; background-color: #1f77b4\">1. Graph visualization</h2>"
   ]
  },
  {
   "cell_type": "markdown",
   "id": "ab24cdce-c354-4594-91e2-9e0baf76e853",
   "metadata": {},
   "source": [
    "Let's start very simply... a graph with 3 nodes (0,1, and 2) and two edges connecting nodes 0&harr;1 and 1&harr;2. \n",
    "Note that the `edge_index` object has two arrays: one of starting nodes and one of ending nodes for each edge."
   ]
  },
  {
   "cell_type": "code",
   "execution_count": null,
   "id": "69276054-c124-4d06-a957-13b4fe8242b8",
   "metadata": {},
   "outputs": [],
   "source": [
    "### Define node features \n",
    "x = torch.tensor([[-1], # node 0\n",
    "                  [0],  # node 1\n",
    "                  [1]], # node 2\n",
    "                 dtype=torch.float)\n",
    "\n",
    "### Define two (bidirectional) edges between nodes [0,1] and between nodes [1,2]:\n",
    "edge_index = torch.tensor([[0, 1, 1, 2], # starting node of each edge\n",
    "                           [1, 0, 2, 1]  # ending node of each edge\n",
    "                          ], dtype=torch.long)\n",
    "\n",
    "### Put it all together into a graph structure\n",
    "data = Data(x=x, edge_index=edge_index)\n",
    "\n",
    "### Visualize the graph\n",
    "plt.figure() \n",
    "nx.draw(to_networkx(data), \n",
    "        cmap='plasma', \n",
    "        node_color = np.arange(data.num_nodes),\n",
    "        with_labels=True,\n",
    "        font_weight='bold',\n",
    "        font_color='white',\n",
    "        node_size=400, linewidths=6)"
   ]
  },
  {
   "cell_type": "code",
   "execution_count": null,
   "id": "1beb5af0-b4b3-4637-9e78-791687de0a8d",
   "metadata": {},
   "outputs": [],
   "source": [
    "print(\"Graph nodes have {} node feature(s) each.\".format(data.num_node_features))\n",
    "print(\"Graph has {} nodes and {} edges.\".format(data.num_nodes, data.num_edges)) # each direction of the edge counts as an edge\n",
    "print(\"Is the graph undirected?: {}\".format(data.is_undirected())) # this means the edges are bi-directional (connect both nodes in both directions)"
   ]
  },
  {
   "cell_type": "markdown",
   "id": "cf53b294-f446-402c-92cf-b38c0456e994",
   "metadata": {},
   "source": [
    "<a name='problem_x'></a> \n",
    "### <span style=\"border:3px; border-style:solid; padding: 0.15em; border-color: #1f77b4; color: #1f77b4;\">Exercise: Playing with edges</span>\n",
    "\n",
    "Re-run the graph visualization cell several times and notice what changes.\n",
    "\n",
    "Then, modify the code above to create some additional graph structures:\n",
    "1. A directed graph with connections from 0&rarr;1, 1&rarr;2, 2&rarr;0\n",
    "2. A graph with 5 nodes, where all nodes connect to node 2.\n",
    "3. A graph with 4 nodes with only self-connections (0&harr;0, 1&harr;1, 2&harr;2, 3&harr;3) "
   ]
  },
  {
   "cell_type": "markdown",
   "id": "fd713a10-4296-493d-a2f0-c132404d686e",
   "metadata": {
    "tags": []
   },
   "source": [
    "<h2 style=\"border:1px; border-style:solid; padding: 0.25em; color: #FFFFFF; background-color: #1f77b4\">2. Load the ENZYMES dataset</h2>"
   ]
  },
  {
   "cell_type": "markdown",
   "id": "f4a5255b-33cd-4dfa-8e4b-3cdea10bb28b",
   "metadata": {},
   "source": [
    "Let's work with a slightly more interesting toy dataset: proteins! "
   ]
  },
  {
   "cell_type": "code",
   "execution_count": null,
   "id": "3473b668-7fb2-4a73-b734-42416d89a7e9",
   "metadata": {},
   "outputs": [],
   "source": [
    "### Load the dataset\n",
    "from torch_geometric.datasets import TUDataset\n",
    "dataset = TUDataset(root='/tmp/ENZYMES', name='ENZYMES', use_node_attr=True)"
   ]
  },
  {
   "cell_type": "markdown",
   "id": "bf9f0f82-fd7d-4fbc-b11f-286c6fcbdf49",
   "metadata": {},
   "source": [
    "<a name='problem_x'></a> \n",
    "### <span style=\"border:3px; border-style:solid; padding: 0.15em; border-color: #1f77b4; color: #1f77b4;\">Exercise: Extract dataset properties</span>\n",
    "*Hint: you can use `dir(dataset)` to list available properties.*\n",
    "1. How many entries are in this dataset?\n",
    "2. How many classes are there?\n",
    "3. How many node features are there?\n",
    "4. Look at the first entry -- how many nodes and edges are present?\n",
    "5. Is the first graph undirected?"
   ]
  },
  {
   "cell_type": "markdown",
   "id": "eca3d83a-132c-4e75-bedd-5cb72bed3a37",
   "metadata": {},
   "source": [
    "<a name='problem_x'></a> \n",
    "### <span style=\"border:3px; border-style:solid; padding: 0.15em; border-color: #1f77b4; color: #1f77b4;\">Exercise: Visualize the ENZYMES graphs</span>"
   ]
  },
  {
   "cell_type": "markdown",
   "id": "ddf7651a-b92b-403f-918b-78b8ffb59442",
   "metadata": {},
   "source": [
    "1. Now use the `networkx` package, as we did above, to visualize a random graph from this dataset.\n",
    "2. Add a title indicating which class the graph belongs to.\n",
    "3. Choose a different colormap.\n",
    "4. Then make a figure with 6 subplots (in a 2x3 arrangement) with an example of each of the 6 classes. Assign a different single color for all the nodes within each each graph class."
   ]
  },
  {
   "cell_type": "markdown",
   "id": "5e1be7ca-4eba-4426-b6b0-1aeeff3c0597",
   "metadata": {},
   "source": [
    "<h2 style=\"border:1px; border-style:solid; padding: 0.25em; color: #FFFFFF; background-color: #1f77b4\">3. Make a dataloader for graphs</h2>"
   ]
  },
  {
   "cell_type": "code",
   "execution_count": null,
   "id": "cc611736-c695-40d0-a971-3e6cc7b55052",
   "metadata": {},
   "outputs": [],
   "source": [
    "from torch_geometric.loader import DataLoader # use this method!"
   ]
  },
  {
   "cell_type": "markdown",
   "id": "093873ce-036a-4493-ba33-4113fd6eb2ff",
   "metadata": {},
   "source": [
    "### <span style=\"border:3px; border-style:solid; padding: 0.15em; border-color: #1f77b4; color: #1f77b4;\">Exercise: Make a DataLoader</span>"
   ]
  },
  {
   "cell_type": "markdown",
   "id": "341bda0f-27ab-4b1f-af61-0d4364cd9ea8",
   "metadata": {},
   "source": [
    "1. Using the DataLoader class defined above, make a dataloader to load the dataset in batches of size 32.\n",
    "2. Make sure to use use `shuffle=True`.\n",
    "3. Print out the number of graphs in the first batch (should be 32, i.e. your batch size).\n",
    "4. Print out the first batch of graphs (should be a `DataBatch` object with various properties listed). What does each number mean?"
   ]
  },
  {
   "cell_type": "markdown",
   "id": "33147875-9b4b-4b62-ad65-f0363b3b24ff",
   "metadata": {},
   "source": [
    "<h2 style=\"border:1px; border-style:solid; padding: 0.25em; color: #FFFFFF; background-color: #1f77b4\">4. Train/Val/Test splits</h2>"
   ]
  },
  {
   "cell_type": "markdown",
   "id": "a3155ed3-8e35-4f23-bc1d-df4b83ed715c",
   "metadata": {},
   "source": [
    "Define hyperparameters for training: "
   ]
  },
  {
   "cell_type": "code",
   "execution_count": null,
   "id": "0b214c0a-5202-44af-bee8-d92223d44cac",
   "metadata": {
    "tags": []
   },
   "outputs": [],
   "source": [
    "args = {\n",
    "    \"device\" : 'cpu', # unless you're using a GPU\n",
    "    \"hidden_size\" : 50,\n",
    "    \"epochs\" : 10,\n",
    "    \"lr\" : 0.001,\n",
    "    \"num_layers\": 3,\n",
    "    \"dataset\" : \"ENZYMES\",\n",
    "    \"batch_size\": 32,\n",
    "}"
   ]
  },
  {
   "cell_type": "markdown",
   "id": "f6f6f2d1-1be8-4792-a28f-ed5b8fd0829f",
   "metadata": {},
   "source": [
    "### <span style=\"border:3px; border-style:solid; padding: 0.15em; border-color: #1f77b4; color: #1f77b4;\">Exercise: train/val/test splits</span>"
   ]
  },
  {
   "cell_type": "markdown",
   "id": "1303161e-2f5c-4940-a6af-351bc8b96950",
   "metadata": {},
   "source": [
    "Split the dataset into 80% train, 10% val, and 10% test sets in the cell below."
   ]
  },
  {
   "cell_type": "code",
   "execution_count": null,
   "id": "d6831996-a41d-4491-9d5a-2acdf7dea2cb",
   "metadata": {},
   "outputs": [],
   "source": [
    "### Define the train/val/test datasets\n",
    "from torch_geometric.datasets import TUDataset\n",
    "dataset = TUDataset(root='./data', name=args[\"dataset\"])\n",
    "\n",
    "dataset = dataset.shuffle()\n",
    "dataset_train = ???\n",
    "dataset_val = ???\n",
    "dataset_test = ???\n",
    "\n",
    "print(f'Number of training graphs: {len(dataset_train)} ({100*len(dataset_train)/len(dataset):.0f}% of total)')\n",
    "print(f'Number of val graphs: {len(dataset_val)} ({100*len(dataset_val)/len(dataset):.0f}% of total)')\n",
    "print(f'Number of test graphs: {len(dataset_test)} ({100*len(dataset_test)/len(dataset):.0f}% of total)')\n",
    "\n",
    "num_node_features = dataset.num_node_features\n",
    "num_classes = dataset.num_classes\n",
    "\n",
    "### Load batches of graphs at a time\n",
    "train_loader = DataLoader(dataset_train, collate_fn=Batch.collate(), batch_size=args[\"batch_size\"], shuffle=True)\n",
    "val_loader = DataLoader(dataset_val, collate_fn=Batch.collate(), batch_size=args[\"batch_size\"])\n",
    "test_loader = DataLoader(dataset_test, collate_fn=Batch.collate(), batch_size=args[\"batch_size\"])"
   ]
  },
  {
   "cell_type": "markdown",
   "id": "e9827967-34ac-486f-9e9e-4ecf8a7f5eec",
   "metadata": {},
   "source": [
    "<h2 style=\"border:1px; border-style:solid; padding: 0.25em; color: #FFFFFF; background-color: #1f77b4\">5. Define the model</h2>"
   ]
  },
  {
   "cell_type": "markdown",
   "id": "55d9b949-1436-4511-af73-653bf3358f90",
   "metadata": {},
   "source": [
    "Let's build a basic GNN -- a Graph Convolutional Network (GCN):"
   ]
  },
  {
   "cell_type": "code",
   "execution_count": null,
   "id": "b45fe87e-f089-4e06-b6e0-b40c5f647971",
   "metadata": {
    "tags": []
   },
   "outputs": [],
   "source": [
    "from torch.nn import Linear\n",
    "import torch.nn.functional as F\n",
    "from torch_geometric.nn import GCNConv\n",
    "from torch_geometric.nn import global_mean_pool\n",
    "\n",
    "class GCN(torch.nn.Module):\n",
    "    def __init__(self, hidden_channels):\n",
    "        super(GCN, self).__init__()\n",
    "        torch.manual_seed(12345)\n",
    "        self.conv1 = GCNConv(dataset.num_node_features, hidden_channels)\n",
    "        self.conv2 = GCNConv(hidden_channels, hidden_channels)\n",
    "        self.conv3 = GCNConv(hidden_channels, hidden_channels)\n",
    "        self.lin = Linear(hidden_channels, dataset.num_classes)\n",
    "\n",
    "    def forward(self, x, edge_index, batch):\n",
    "        # 1. Obtain node embeddings \n",
    "        x = self.conv1(x, edge_index)\n",
    "        x = x.relu()\n",
    "        x = self.conv2(x, edge_index)\n",
    "        x = x.relu()\n",
    "        x = self.conv3(x, edge_index)\n",
    "\n",
    "        # 2. Readout layer\n",
    "        x = global_mean_pool(x, batch)  # [batch_size, hidden_channels]\n",
    "\n",
    "        # 3. Apply a final classifier\n",
    "        x = F.dropout(x, p=0.5, training=self.training)\n",
    "        x = self.lin(x)\n",
    "        \n",
    "        return x"
   ]
  },
  {
   "cell_type": "code",
   "execution_count": null,
   "id": "17ec4783-e340-42ba-8069-c23512e89067",
   "metadata": {},
   "outputs": [],
   "source": [
    "model = GCN(hidden_channels=64)\n",
    "print(model)"
   ]
  },
  {
   "cell_type": "markdown",
   "id": "750979df-ea37-4ac4-b151-706eef7bb565",
   "metadata": {},
   "source": [
    "We want this network to perform a multi-class graph classification, i.e. given an input graph, we want our GNN to output which class of protein it belongs to. Which loss should we pick? Insert it below:"
   ]
  },
  {
   "cell_type": "code",
   "execution_count": null,
   "id": "ff5e0d3c-6ffb-4e83-b4c5-cde0b04d0160",
   "metadata": {},
   "outputs": [],
   "source": [
    "optimizer = torch.optim.Adam(model.parameters(), lr=0.001)\n",
    "criterion = ???\n",
    "\n",
    "def train():\n",
    "    model.train()\n",
    "\n",
    "    for data in train_loader:  # Iterate in batches over the training dataset.\n",
    "         out = model(data.x, data.edge_index, data.batch)  # Perform a single forward pass.\n",
    "         loss = criterion(out, data.y)  # Compute the loss.\n",
    "         loss.backward()  # Derive gradients.\n",
    "         optimizer.step()  # Update parameters based on gradients.\n",
    "         optimizer.zero_grad()  # Clear gradients.\n",
    "\n",
    "def test(loader):\n",
    "     model.eval()\n",
    "     correct = 0\n",
    "     loss_ = 0\n",
    "     for data in loader:  # Iterate in batches over the training/test dataset.\n",
    "         out = model(data.x, data.edge_index, data.batch)  \n",
    "         loss = criterion(out, data.y)\n",
    "         loss_ += loss.item()\n",
    "         pred = out.argmax(dim=1)  # Use the class with highest probability.\n",
    "         correct += int((pred == data.y).sum())  # Check against ground-truth labels.\n",
    "     return correct / len(loader.dataset), loss_ / len(loader.dataset)  # Derive ratio of correct predictions."
   ]
  },
  {
   "cell_type": "markdown",
   "id": "6fb693d3-e439-45af-98a6-15e428d184ca",
   "metadata": {},
   "source": [
    "<h2 style=\"border:1px; border-style:solid; padding: 0.25em; color: #FFFFFF; background-color: #1f77b4\">6. Train & evaluate</h2>"
   ]
  },
  {
   "cell_type": "code",
   "execution_count": null,
   "id": "d6a7a577-5408-42f0-9c9a-7bad1c02e5bc",
   "metadata": {},
   "outputs": [],
   "source": [
    "import wandb\n",
    "use_wandb = True "
   ]
  },
  {
   "cell_type": "code",
   "execution_count": null,
   "id": "f74569c3-afe9-4394-9fea-6b33e0e2e0f8",
   "metadata": {},
   "outputs": [],
   "source": [
    "from tqdm.auto import trange\n",
    "\n",
    "# Initialize W&B run for training\n",
    "wandb.init(project=\"intro_to_pyg\") # name your project whatever you like\n",
    "\n",
    "for epoch in trange(args[\"epochs\"]):\n",
    "    train()\n",
    "    train_acc, train_loss = test(train_loader)\n",
    "    val_acc, val_loss = test(val_loader)\n",
    "    \n",
    "    # Log metrics to W&B\n",
    "    if use_wandb:\n",
    "        wandb.log({\n",
    "            \"train/loss\": train_loss,\n",
    "            \"train/acc\": train_acc,\n",
    "            \"val/acc\": val_acc,\n",
    "            \"val/loss\": val_loss,\n",
    "        })\n",
    "\n",
    "    torch.save(model, \"graph_classification_model.pt\")\n",
    "\n",
    "# Finish the W&B run\n",
    "if use_wandb:\n",
    "    wandb.finish()"
   ]
  },
  {
   "cell_type": "markdown",
   "id": "6733baf6-022f-48f8-bbe0-c6e9b7b1582a",
   "metadata": {},
   "source": [
    "Now let's evalute the performance of the model on the test set:"
   ]
  },
  {
   "cell_type": "markdown",
   "id": "36d4e452-2542-4cf2-ad44-dea7ac308202",
   "metadata": {},
   "source": [
    "### <span style=\"border:3px; border-style:solid; padding: 0.15em; border-color: #1f77b4; color: #1f77b4;\">Exercise: Evaluate & improve the model</span>\n",
    "1. What accuracy would you expect to see with random guessing?\n",
    "2. Evaluate on your holdout test set. How does your test accuracy compare?\n",
    "3. Can you improve the model by changing some of the hyperparameters to get a total test accuracy $\\geq$ 40%? "
   ]
  },
  {
   "cell_type": "code",
   "execution_count": null,
   "id": "a23f2732-fddf-41d0-8682-fa3bf0b16692",
   "metadata": {},
   "outputs": [],
   "source": []
  }
 ],
 "metadata": {
  "kernelspec": {
   "display_name": "venv_project1",
   "language": "python",
   "name": "python3"
  },
  "language_info": {
   "codemirror_mode": {
    "name": "ipython",
    "version": 3
   },
   "file_extension": ".py",
   "mimetype": "text/x-python",
   "name": "python",
   "nbconvert_exporter": "python",
   "pygments_lexer": "ipython3",
   "version": "3.9.21"
  }
 },
 "nbformat": 4,
 "nbformat_minor": 5
}
